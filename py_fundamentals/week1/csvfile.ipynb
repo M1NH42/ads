{
 "nbformat": 4,
 "nbformat_minor": 2,
 "metadata": {
  "language_info": {
   "name": "python",
   "codemirror_mode": {
    "name": "ipython",
    "version": 3
   },
   "version": "3.7.7-final"
  },
  "orig_nbformat": 2,
  "file_extension": ".py",
  "mimetype": "text/x-python",
  "name": "python",
  "npconvert_exporter": "python",
  "pygments_lexer": "ipython3",
  "version": 3,
  "kernelspec": {
   "name": "python37764bitmyenvcondaf379236c2318438190c8913999659617",
   "display_name": "Python 3.7.7 64-bit ('myenv': conda)"
  }
 },
 "cells": [
  {
   "cell_type": "code",
   "execution_count": 3,
   "metadata": {},
   "outputs": [
    {
     "output_type": "execute_result",
     "data": {
      "text/plain": "[OrderedDict([('', '1'),\n              ('manufacturer', 'audi'),\n              ('model', 'a4'),\n              ('displ', '1.8'),\n              ('year', '1999'),\n              ('cyl', '4'),\n              ('trans', 'auto(l5)'),\n              ('drv', 'f'),\n              ('cty', '18'),\n              ('hwy', '29'),\n              ('fl', 'p'),\n              ('class', 'compact')]),\n OrderedDict([('', '2'),\n              ('manufacturer', 'audi'),\n              ('model', 'a4'),\n              ('displ', '1.8'),\n              ('year', '1999'),\n              ('cyl', '4'),\n              ('trans', 'manual(m5)'),\n              ('drv', 'f'),\n              ('cty', '21'),\n              ('hwy', '29'),\n              ('fl', 'p'),\n              ('class', 'compact')]),\n OrderedDict([('', '3'),\n              ('manufacturer', 'audi'),\n              ('model', 'a4'),\n              ('displ', '2'),\n              ('year', '2008'),\n              ('cyl', '4'),\n              ('trans', 'manual(m6)'),\n              ('drv', 'f'),\n              ('cty', '20'),\n              ('hwy', '31'),\n              ('fl', 'p'),\n              ('class', 'compact')])]"
     },
     "metadata": {},
     "execution_count": 3
    }
   ],
   "source": [
    "import csv\n",
    "\n",
    "%precision 2\n",
    "\n",
    "with open('data.csv') as csvfile :\n",
    "    mpg = list(csv.DictReader(csvfile))\n",
    "\n",
    "mpg[: 3]"
   ]
  },
  {
   "cell_type": "code",
   "execution_count": 4,
   "metadata": {},
   "outputs": [
    {
     "output_type": "execute_result",
     "data": {
      "text/plain": "234"
     },
     "metadata": {},
     "execution_count": 4
    }
   ],
   "source": [
    "len(mpg)"
   ]
  },
  {
   "cell_type": "code",
   "execution_count": 10,
   "metadata": {},
   "outputs": [
    {
     "output_type": "execute_result",
     "data": {
      "text/plain": "16.86"
     },
     "metadata": {},
     "execution_count": 10
    }
   ],
   "source": [
    "avg = sum(float(d['cty']) for d in mpg) / len(mpg)\n",
    "avg"
   ]
  },
  {
   "cell_type": "code",
   "execution_count": null,
   "metadata": {},
   "outputs": [],
   "source": []
  }
 ]
}