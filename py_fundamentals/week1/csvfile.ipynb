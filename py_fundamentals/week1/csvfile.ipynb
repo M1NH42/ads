{
 "nbformat": 4,
 "nbformat_minor": 2,
 "metadata": {
  "language_info": {
   "name": "python",
   "codemirror_mode": {
    "name": "ipython",
    "version": 3
   },
   "version": "3.7.7-final"
  },
  "orig_nbformat": 2,
  "file_extension": ".py",
  "mimetype": "text/x-python",
  "name": "python",
  "npconvert_exporter": "python",
  "pygments_lexer": "ipython3",
  "version": 3,
  "kernelspec": {
   "name": "python37764bitmyenvcondaf379236c2318438190c8913999659617",
   "display_name": "Python 3.7.7 64-bit ('myenv': conda)"
  }
 },
 "cells": [
  {
   "cell_type": "code",
   "execution_count": 1,
   "metadata": {},
   "outputs": [
    {
     "output_type": "execute_result",
     "data": {
      "text/plain": "[OrderedDict([('', '1'),\n              ('manufacturer', 'audi'),\n              ('model', 'a4'),\n              ('displ', '1.8'),\n              ('year', '1999'),\n              ('cyl', '4'),\n              ('trans', 'auto(l5)'),\n              ('drv', 'f'),\n              ('cty', '18'),\n              ('hwy', '22'),\n              ('fl', 'p'),\n              ('class', 'compact')])]"
     },
     "metadata": {},
     "execution_count": 1
    }
   ],
   "source": [
    "import csv\n",
    "\n",
    "%precision 2\n",
    "\n",
    "with open('data.csv') as csvfile :\n",
    "    mpg = list(csv.DictReader(csvfile))\n",
    "\n",
    "mpg[: 1]"
   ]
  },
  {
   "cell_type": "code",
   "execution_count": 2,
   "metadata": {},
   "outputs": [
    {
     "output_type": "execute_result",
     "data": {
      "text/plain": "234"
     },
     "metadata": {},
     "execution_count": 2
    }
   ],
   "source": [
    "len(mpg)"
   ]
  },
  {
   "cell_type": "code",
   "execution_count": 3,
   "metadata": {},
   "outputs": [
    {
     "output_type": "execute_result",
     "data": {
      "text/plain": "16.86"
     },
     "metadata": {},
     "execution_count": 3
    }
   ],
   "source": [
    "avg = sum(float(d['cty']) for d in mpg) / len(mpg)\n",
    "avg"
   ]
  },
  {
   "cell_type": "code",
   "execution_count": 4,
   "metadata": {},
   "outputs": [
    {
     "output_type": "execute_result",
     "data": {
      "text/plain": "odict_keys(['', 'manufacturer', 'model', 'displ', 'year', 'cyl', 'trans', 'drv', 'cty', 'hwy', 'fl', 'class'])"
     },
     "metadata": {},
     "execution_count": 4
    }
   ],
   "source": [
    "mpg[0].keys()"
   ]
  },
  {
   "cell_type": "code",
   "execution_count": 5,
   "metadata": {},
   "outputs": [
    {
     "output_type": "execute_result",
     "data": {
      "text/plain": "odict_keys(['', 'manufacturer', 'model', 'displ', 'year', 'cyl', 'trans', 'drv', 'cty', 'hwy', 'fl', 'class'])"
     },
     "metadata": {},
     "execution_count": 5
    }
   ],
   "source": [
    "mpg[1].keys()"
   ]
  },
  {
   "cell_type": "code",
   "execution_count": 6,
   "metadata": {},
   "outputs": [
    {
     "output_type": "execute_result",
     "data": {
      "text/plain": "23.41"
     },
     "metadata": {},
     "execution_count": 6
    }
   ],
   "source": [
    "sum(float(d['hwy']) for d in mpg) / len(mpg)"
   ]
  },
  {
   "cell_type": "code",
   "execution_count": 7,
   "metadata": {},
   "outputs": [
    {
     "output_type": "execute_result",
     "data": {
      "text/plain": "{'4', '5', '6', '8'}"
     },
     "metadata": {},
     "execution_count": 7
    }
   ],
   "source": [
    "# use set operation to assign unique value of cyl to cylinders\n",
    "cylinders = set(d['cyl'] for d in mpg)\n",
    "cylinders # prints return value of the cylinder"
   ]
  },
  {
   "cell_type": "code",
   "execution_count": 10,
   "metadata": {},
   "outputs": [
    {
     "output_type": "execute_result",
     "data": {
      "text/plain": "[('4', 21.01), ('5', 20.50), ('6', 16.22), ('8', 12.57)]"
     },
     "metadata": {},
     "execution_count": 10
    }
   ],
   "source": [
    "group_by_cyl = []\n",
    "\n",
    "for c in cylinders :\n",
    "    sum_mpg = 0\n",
    "    cyl_type_count = 0\n",
    "    for d in mpg :\n",
    "        if d['cyl'] == c :\n",
    "            sum_mpg += float(d['cty'])\n",
    "            cyl_type_count += 1\n",
    "    group_by_cyl.append((c, sum_mpg/ cyl_type_count))\n",
    "\n",
    "group_by_cyl.sort(key= lambda x: x[0])\n",
    "group_by_cyl"
   ]
  },
  {
   "cell_type": "code",
   "execution_count": null,
   "metadata": {},
   "outputs": [],
   "source": []
  }
 ]
}