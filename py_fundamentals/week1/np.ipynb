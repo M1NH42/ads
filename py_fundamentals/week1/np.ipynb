{
 "nbformat": 4,
 "nbformat_minor": 2,
 "metadata": {
  "language_info": {
   "name": "python",
   "codemirror_mode": {
    "name": "ipython",
    "version": 3
   },
   "version": "3.7.7-final"
  },
  "orig_nbformat": 2,
  "file_extension": ".py",
  "mimetype": "text/x-python",
  "name": "python",
  "npconvert_exporter": "python",
  "pygments_lexer": "ipython3",
  "version": 3,
  "kernelspec": {
   "name": "python37764bitmyenvcondaf379236c2318438190c8913999659617",
   "display_name": "Python 3.7.7 64-bit ('myenv': conda)"
  }
 },
 "cells": [
  {
   "cell_type": "code",
   "execution_count": 1,
   "metadata": {},
   "outputs": [],
   "source": [
    "# import module\n",
    "import numpy as np"
   ]
  },
  {
   "cell_type": "code",
   "execution_count": 3,
   "metadata": {},
   "outputs": [
    {
     "output_type": "stream",
     "name": "stdout",
     "text": "[1 2 3 4]\n"
    }
   ],
   "source": [
    "# single dimensional array\n",
    "# list\n",
    "my_list = [1, 2, 3, 4]\n",
    "\n",
    "# convert into array using numpy arrays\n",
    "x = np.array(my_list)\n",
    "\n",
    "# print array\n",
    "print(x)"
   ]
  },
  {
   "cell_type": "code",
   "execution_count": 8,
   "metadata": {},
   "outputs": [
    {
     "output_type": "execute_result",
     "data": {
      "text/plain": "array([[ 12, 334,   5,   5],\n       [  7,   6,   4,   8],\n       [  1,   2,   3,   4]])"
     },
     "metadata": {},
     "execution_count": 8
    }
   ],
   "source": [
    "# multidimansional array\n",
    "ma = np.array([[12,334, 5, 5], [7, 6, 4, 8],[1,2,3,4]])\n",
    "\n",
    "#print(ma)\n",
    "ma"
   ]
  },
  {
   "cell_type": "code",
   "execution_count": 10,
   "metadata": {},
   "outputs": [
    {
     "output_type": "execute_result",
     "data": {
      "text/plain": "array([[ 12,   7,   1],\n       [334,   6,   2],\n       [  5,   4,   3],\n       [  5,   8,   4]])"
     },
     "metadata": {},
     "execution_count": 10
    }
   ],
   "source": [
    "# create transpose\n",
    "ma.T"
   ]
  },
  {
   "cell_type": "code",
   "execution_count": null,
   "metadata": {},
   "outputs": [],
   "source": []
  }
 ]
}