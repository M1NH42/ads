{
 "nbformat": 4,
 "nbformat_minor": 2,
 "metadata": {
  "language_info": {
   "name": "python",
   "codemirror_mode": {
    "name": "ipython",
    "version": 3
   },
   "version": "3.7.7-final"
  },
  "orig_nbformat": 2,
  "file_extension": ".py",
  "mimetype": "text/x-python",
  "name": "python",
  "npconvert_exporter": "python",
  "pygments_lexer": "ipython3",
  "version": 3,
  "kernelspec": {
   "name": "python37764bitmyenvcondaf379236c2318438190c8913999659617",
   "display_name": "Python 3.7.7 64-bit ('myenv': conda)"
  }
 },
 "cells": [
  {
   "cell_type": "code",
   "execution_count": 1,
   "metadata": {},
   "outputs": [],
   "source": [
    "%matplotlib notebook\n",
    "import numpy as np\n",
    "import matplotlib.pyplot as plt\n",
    "import pandas as pd\n",
    "from sklearn.model_selection import train_test_split\n",
    "\n",
    "# read table\n",
    "fruits = pd.read_table('fruit_data_with_colors.txt')"
   ]
  },
  {
   "cell_type": "code",
   "execution_count": 2,
   "metadata": {},
   "outputs": [
    {
     "output_type": "execute_result",
     "data": {
      "text/html": "<div>\n<style scoped>\n    .dataframe tbody tr th:only-of-type {\n        vertical-align: middle;\n    }\n\n    .dataframe tbody tr th {\n        vertical-align: top;\n    }\n\n    .dataframe thead th {\n        text-align: right;\n    }\n</style>\n<table border=\"1\" class=\"dataframe\">\n  <thead>\n    <tr style=\"text-align: right;\">\n      <th></th>\n      <th>fruit_label</th>\n      <th>fruit_name</th>\n      <th>fruit_subtype</th>\n      <th>mass</th>\n      <th>width</th>\n      <th>height</th>\n      <th>color_score</th>\n    </tr>\n  </thead>\n  <tbody>\n    <tr>\n      <th>0</th>\n      <td>1</td>\n      <td>apple</td>\n      <td>granny_smith</td>\n      <td>192</td>\n      <td>8.4</td>\n      <td>7.3</td>\n      <td>0.55</td>\n    </tr>\n    <tr>\n      <th>1</th>\n      <td>1</td>\n      <td>apple</td>\n      <td>granny_smith</td>\n      <td>180</td>\n      <td>8.0</td>\n      <td>6.8</td>\n      <td>0.59</td>\n    </tr>\n    <tr>\n      <th>2</th>\n      <td>1</td>\n      <td>apple</td>\n      <td>granny_smith</td>\n      <td>176</td>\n      <td>7.4</td>\n      <td>7.2</td>\n      <td>0.60</td>\n    </tr>\n    <tr>\n      <th>3</th>\n      <td>2</td>\n      <td>mandarin</td>\n      <td>mandarin</td>\n      <td>86</td>\n      <td>6.2</td>\n      <td>4.7</td>\n      <td>0.80</td>\n    </tr>\n    <tr>\n      <th>4</th>\n      <td>2</td>\n      <td>mandarin</td>\n      <td>mandarin</td>\n      <td>84</td>\n      <td>6.0</td>\n      <td>4.6</td>\n      <td>0.79</td>\n    </tr>\n  </tbody>\n</table>\n</div>",
      "text/plain": "   fruit_label fruit_name fruit_subtype  mass  width  height  color_score\n0            1      apple  granny_smith   192    8.4     7.3         0.55\n1            1      apple  granny_smith   180    8.0     6.8         0.59\n2            1      apple  granny_smith   176    7.4     7.2         0.60\n3            2   mandarin      mandarin    86    6.2     4.7         0.80\n4            2   mandarin      mandarin    84    6.0     4.6         0.79"
     },
     "metadata": {},
     "execution_count": 2
    }
   ],
   "source": [
    "fruits.head()"
   ]
  },
  {
   "cell_type": "code",
   "execution_count": 7,
   "metadata": {},
   "outputs": [
    {
     "output_type": "execute_result",
     "data": {
      "text/html": "<div>\n<style scoped>\n    .dataframe tbody tr th:only-of-type {\n        vertical-align: middle;\n    }\n\n    .dataframe tbody tr th {\n        vertical-align: top;\n    }\n\n    .dataframe thead th {\n        text-align: right;\n    }\n</style>\n<table border=\"1\" class=\"dataframe\">\n  <thead>\n    <tr style=\"text-align: right;\">\n      <th></th>\n      <th>fruit_label</th>\n      <th>fruit_name</th>\n      <th>fruit_subtype</th>\n      <th>mass</th>\n      <th>width</th>\n      <th>height</th>\n      <th>color_score</th>\n    </tr>\n  </thead>\n  <tbody>\n    <tr>\n      <th>54</th>\n      <td>4</td>\n      <td>lemon</td>\n      <td>unknown</td>\n      <td>116</td>\n      <td>6.1</td>\n      <td>8.5</td>\n      <td>0.71</td>\n    </tr>\n    <tr>\n      <th>55</th>\n      <td>4</td>\n      <td>lemon</td>\n      <td>unknown</td>\n      <td>116</td>\n      <td>6.3</td>\n      <td>7.7</td>\n      <td>0.72</td>\n    </tr>\n    <tr>\n      <th>56</th>\n      <td>4</td>\n      <td>lemon</td>\n      <td>unknown</td>\n      <td>116</td>\n      <td>5.9</td>\n      <td>8.1</td>\n      <td>0.73</td>\n    </tr>\n    <tr>\n      <th>57</th>\n      <td>4</td>\n      <td>lemon</td>\n      <td>unknown</td>\n      <td>152</td>\n      <td>6.5</td>\n      <td>8.5</td>\n      <td>0.72</td>\n    </tr>\n    <tr>\n      <th>58</th>\n      <td>4</td>\n      <td>lemon</td>\n      <td>unknown</td>\n      <td>118</td>\n      <td>6.1</td>\n      <td>8.1</td>\n      <td>0.70</td>\n    </tr>\n  </tbody>\n</table>\n</div>",
      "text/plain": "    fruit_label fruit_name fruit_subtype  mass  width  height  color_score\n54            4      lemon       unknown   116    6.1     8.5         0.71\n55            4      lemon       unknown   116    6.3     7.7         0.72\n56            4      lemon       unknown   116    5.9     8.1         0.73\n57            4      lemon       unknown   152    6.5     8.5         0.72\n58            4      lemon       unknown   118    6.1     8.1         0.70"
     },
     "metadata": {},
     "execution_count": 7
    }
   ],
   "source": [
    "fruits.tail()"
   ]
  },
  {
   "cell_type": "code",
   "execution_count": 4,
   "metadata": {},
   "outputs": [
    {
     "output_type": "execute_result",
     "data": {
      "text/plain": "(59, 7)"
     },
     "metadata": {},
     "execution_count": 4
    }
   ],
   "source": [
    "fruits.shape"
   ]
  },
  {
   "cell_type": "code",
   "execution_count": 9,
   "metadata": {},
   "outputs": [],
   "source": [
    "X = fruits[['mass', 'width', 'height', 'color_score']]\n",
    "y = fruits['fruit_label']\n",
    "\n",
    "# train test split function\n",
    "X_train, X_test, y_train, y_test = train_test_split(X, y, random_state = 0)"
   ]
  }
 ]
}